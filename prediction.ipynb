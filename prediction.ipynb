{
 "cells": [
  {
   "cell_type": "code",
   "execution_count": 3,
   "id": "fbe63352",
   "metadata": {},
   "outputs": [],
   "source": [
    "import keras\n",
    "import numpy as np\n",
    "import pandas as pd\n",
    "import cv2\n",
    "import PIL\n",
    "import tkinter as tk\n",
    "from tkinter import *\n",
    "from PIL import ImageTk,Image\n",
    "from tkinter.ttk import *\n",
    "n=0"
   ]
  },
  {
   "cell_type": "code",
   "execution_count": 4,
   "id": "f0578ac8",
   "metadata": {},
   "outputs": [
    {
     "name": "stdout",
     "output_type": "stream",
     "text": [
      "2.6.0\n"
     ]
    }
   ],
   "source": [
    "print(keras.__version__)"
   ]
  },
  {
   "cell_type": "code",
   "execution_count": 248,
   "id": "e9d73464",
   "metadata": {},
   "outputs": [],
   "source": [
    "def myfunction():\n",
    "    videoCaptureObject = cv2.VideoCapture(0)\n",
    "    result = True\n",
    "    while(result):\n",
    "        ret,frame = videoCaptureObject.read()\n",
    "        cv2.imwrite(\"NewPicture1.jpg\",frame)\n",
    "        result = False\n",
    "        \n",
    "    videoCaptureObject.release()\n",
    "    cv2.destroyAllWindows()"
   ]
  },
  {
   "cell_type": "code",
   "execution_count": 249,
   "id": "09c05fee",
   "metadata": {},
   "outputs": [],
   "source": [
    "\n",
    "window=Tk()\n",
    "window.title(\"Taking image for emotion detection\")\n",
    "window.geometry('500x300')\n",
    "\n",
    "    \n",
    "style = Style()\n",
    "style.configure('W.TButton', font =\n",
    "               ('calibri', 25, 'bold',),\n",
    "                foreground = 'Green')\n",
    "\n",
    "button = Button(window, text='Capture',style='W.TButton', command=myfunction)\n",
    "\n",
    "button.pack()\n",
    "button.place(x=155, y=110)\n",
    "emptylabel=Label(window)\n",
    "emptylabel.place(x=200, y=300)\n",
    "window.after(10000, window.destroy)\n",
    "window.mainloop()"
   ]
  },
  {
   "cell_type": "code",
   "execution_count": 250,
   "id": "d5f59170",
   "metadata": {},
   "outputs": [],
   "source": [
    "sad_image = 'NewPicture1.jpg'\n",
    "im1 = Image.open(r\"NewPicture1.jpg\") \n"
   ]
  },
  {
   "cell_type": "code",
   "execution_count": 251,
   "id": "d6461987",
   "metadata": {},
   "outputs": [],
   "source": [
    "\n",
    "reconstructed_model = keras.models.load_model(\"test_fer2013_cnn.h5\")\n",
    "    "
   ]
  },
  {
   "cell_type": "code",
   "execution_count": 252,
   "id": "4fe83771",
   "metadata": {},
   "outputs": [],
   "source": [
    "import tensorflow as tf\n",
    "from tensorflow.keras.applications.resnet50 import preprocess_input, decode_predictions\n",
    "from tensorflow.keras.preprocessing import image\n",
    "\n",
    "\n",
    "img_batch = np.expand_dims(tf.keras.utils.img_to_array(tf.keras.utils.load_img(\n",
    "    sad_image, color_mode='grayscale', target_size=(48,48,1),\n",
    "    interpolation='nearest'\n",
    ").convert('L')), axis=0)\n",
    "prediction = reconstructed_model.predict(img_batch)\n"
   ]
  },
  {
   "cell_type": "code",
   "execution_count": 253,
   "id": "3b11c91c",
   "metadata": {},
   "outputs": [],
   "source": [
    "prediction = prediction.astype(int)"
   ]
  },
  {
   "cell_type": "code",
   "execution_count": 254,
   "id": "339ab3d8",
   "metadata": {},
   "outputs": [
    {
     "data": {
      "text/plain": [
       "array([[0, 0, 0, 0, 0, 1, 0]])"
      ]
     },
     "execution_count": 254,
     "metadata": {},
     "output_type": "execute_result"
    }
   ],
   "source": [
    "prediction"
   ]
  },
  {
   "cell_type": "code",
   "execution_count": 255,
   "id": "e48cce12",
   "metadata": {},
   "outputs": [],
   "source": [
    "var=''\n",
    "var2=''\n",
    "if prediction[0][0] == 1:\n",
    "    var='You are Angry'\n",
    "    var2='angry'\n",
    "elif prediction[0][1] == 1:\n",
    "    var='You feel Disgusted'\n",
    "    var2='disgust'\n",
    "elif prediction[0][2] == 1:\n",
    "    var='You look Scared'\n",
    "    var2='fear'\n",
    "elif prediction[0][3] == 1:\n",
    "    var='You look Happy'\n",
    "    var2='happy'\n",
    "elif prediction[0][4] == 1:\n",
    "    var='You are feeling nothing'\n",
    "    var2='neutral'\n",
    "elif prediction[0][5] == 1:\n",
    "    var='You are Sad'\n",
    "    var2='sad'\n",
    "elif prediction[0][6] == 1:\n",
    "    var='You look Surprise'\n",
    "    var2='surprise'"
   ]
  },
  {
   "cell_type": "code",
   "execution_count": 256,
   "id": "38926903",
   "metadata": {},
   "outputs": [],
   "source": [
    "\n",
    "import tkinter as tk\n",
    "from tkinter import ttk\n",
    "import tkinter.font as font\n",
    "from tkinter import font as tkFont"
   ]
  },
  {
   "cell_type": "code",
   "execution_count": null,
   "id": "3fee4309",
   "metadata": {},
   "outputs": [],
   "source": []
  },
  {
   "cell_type": "code",
   "execution_count": 257,
   "id": "4fa44b9b",
   "metadata": {},
   "outputs": [
    {
     "name": "stderr",
     "output_type": "stream",
     "text": [
      "Exception in Tkinter callback\n",
      "Traceback (most recent call last):\n",
      "  File \"C:\\Users\\BILAL\\anaconda3\\lib\\tkinter\\__init__.py\", line 1892, in __call__\n",
      "    return self.func(*args)\n",
      "  File \"<ipython-input-243-2ed991f020c9>\", line 17, in myfunction2\n",
      "    emptylabel.config(text=var,font=(\"arial italic\", 15)).pack()\n",
      "AttributeError: 'NoneType' object has no attribute 'pack'\n"
     ]
    }
   ],
   "source": [
    "tkWindow = Tk()\n",
    "tkWindow.title(\"Emotion Detection System\")\n",
    "tkWindow.geometry(\"600x500\")\n",
    "tkWindow.resizable(width=True, height=True)\n",
    "\n",
    "def myfunction2():\n",
    "    img = Image.open('NewPicture1.jpg')\n",
    "    img = img.resize((150, 150), Image.ANTIALIAS)\n",
    "    img = ImageTk.PhotoImage(img)\n",
    "    panel = Label(tkWindow, image=img)\n",
    "    panel.image = img\n",
    "    panel.pack()\n",
    "    emptylabel.config(text=var,font=(\"arial italic\", 15)).pack()\n",
    "button = Button(tkWindow, text='Detect Emotions', command=myfunction2)\n",
    "button.pack()\n",
    "button.place(x=200, y=200)\n",
    "\n",
    "#this code is to design the button\n",
    "style = Style()\n",
    " \n",
    "style.configure('TButton', font =\n",
    "               ('calibri', 20, 'bold'),\n",
    "                    borderwidth = '4')\n",
    " \n",
    "# Changes will be reflected\n",
    "# by the movement of mouse.\n",
    "style.map('TButton', foreground = [('active', '!disabled', 'green')],\n",
    "                     background = [('active', 'black')])\n",
    "\n",
    "\n",
    "\n",
    "#this button is to quit the running application\n",
    "myFont = font.Font(family='Helvetica')\n",
    "tk.button = Button(tkWindow, text='Quit The System', command=tkWindow.destroy)\n",
    "\n",
    "tk.button.place(x=200, y=250)\n",
    "emptylabel=Label(tkWindow)\n",
    "emptylabel.place(x=220, y=150)    \n",
    "tkWindow.mainloop()\n",
    "window.mainloop()"
   ]
  },
  {
   "cell_type": "code",
   "execution_count": 269,
   "id": "ae87e03c",
   "metadata": {},
   "outputs": [
    {
     "data": {
      "text/plain": [
       "str"
      ]
     },
     "execution_count": 269,
     "metadata": {},
     "output_type": "execute_result"
    }
   ],
   "source": [
    "import os\n",
    "\n",
    "def get_filepaths(directory):\n",
    "    \"\"\"\n",
    "    This function will generate the file names in a directory \n",
    "    tree by walking the tree either top-down or bottom-up. For each \n",
    "    directory in the tree rooted at directory top (including top itself), \n",
    "    it yields a 3-tuple (dirpath, dirnames, filenames).\n",
    "    \"\"\"\n",
    "    file_paths = []  # List which will store all of the full filepaths.\n",
    "\n",
    "    # Walk the tree.\n",
    "    for root, directories, files in os.walk(directory):\n",
    "        for filename in files:\n",
    "            # Join the two strings in order to form the full filepath.\n",
    "            filepath = os.path.join(root, filename)\n",
    "            file_paths.append(filepath)  # Add it to the list.\n",
    "\n",
    "    return file_paths  # Self-explanatory.\n",
    "\n",
    "# Run the above function and store its results in a variable.   \n",
    "full_file_paths = get_filepaths(\"C:/Users/BILAL/Desktop/New folder/train/\"+var2)\n",
    "type(full_file_paths[0])"
   ]
  },
  {
   "cell_type": "code",
   "execution_count": 271,
   "id": "985fdf04",
   "metadata": {},
   "outputs": [
    {
     "name": "stdout",
     "output_type": "stream",
     "text": [
      "You are Sad filename_1.jpg\n",
      "1 filename_2.jpg\n"
     ]
    }
   ],
   "source": [
    "maxNum = 0\n",
    "for i in range(len(full_file_paths)):\n",
    "    if full_file_paths[i].find('filename_')!=-1:\n",
    "        # Replace C:/Users/BILAL/Desktop/ with your own file path\n",
    "        a = full_file_paths[i].replace('C:/Users/BILAL/Desktop/New folder/train/','')\n",
    "        a = a.replace('\\\\','')\n",
    "        a = a.replace(var2,'')\n",
    "        print(var,a)\n",
    "        a = a.replace('.jpg','')\n",
    "        a = a.replace('filename_','')\n",
    "        a = int(a)\n",
    "        newFileName = 'filename_'+'0'\n",
    "        if a >= maxNum:\n",
    "            maxNum=a\n",
    "            newFileName = 'filename_'+str(maxNum+1)+'.jpg'\n",
    "        print(a,newFileName)\n",
    "        im1.save('train/'+var2+'/'+newFileName)"
   ]
  },
  {
   "cell_type": "code",
   "execution_count": null,
   "id": "50fd460c",
   "metadata": {},
   "outputs": [],
   "source": []
  }
 ],
 "metadata": {
  "kernelspec": {
   "display_name": "Python 3",
   "language": "python",
   "name": "python3"
  },
  "language_info": {
   "codemirror_mode": {
    "name": "ipython",
    "version": 3
   },
   "file_extension": ".py",
   "mimetype": "text/x-python",
   "name": "python",
   "nbconvert_exporter": "python",
   "pygments_lexer": "ipython3",
   "version": "3.8.8"
  }
 },
 "nbformat": 4,
 "nbformat_minor": 5
}
